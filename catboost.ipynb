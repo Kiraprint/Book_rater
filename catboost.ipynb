{
 "cells": [
  {
   "cell_type": "code",
   "execution_count": 1,
   "metadata": {},
   "outputs": [],
   "source": [
    "import pandas as pd\n",
    "import numpy as np\n",
    "from catboost import CatBoostRegressor, Pool, cv\n",
    "from sklearn.metrics import mean_squared_error\n",
    "from sklearn.model_selection import train_test_split"
   ]
  },
  {
   "cell_type": "code",
   "execution_count": 42,
   "metadata": {},
   "outputs": [
    {
     "data": {
      "text/html": [
       "<div>\n",
       "<style scoped>\n",
       "    .dataframe tbody tr th:only-of-type {\n",
       "        vertical-align: middle;\n",
       "    }\n",
       "\n",
       "    .dataframe tbody tr th {\n",
       "        vertical-align: top;\n",
       "    }\n",
       "\n",
       "    .dataframe thead th {\n",
       "        text-align: right;\n",
       "    }\n",
       "</style>\n",
       "<table border=\"1\" class=\"dataframe\">\n",
       "  <thead>\n",
       "    <tr style=\"text-align: right;\">\n",
       "      <th></th>\n",
       "      <th>book_authors</th>\n",
       "      <th>book_desc</th>\n",
       "      <th>book_edition</th>\n",
       "      <th>book_format</th>\n",
       "      <th>book_isbn</th>\n",
       "      <th>book_pages</th>\n",
       "      <th>book_rating</th>\n",
       "      <th>book_rating_count</th>\n",
       "      <th>book_review_count</th>\n",
       "      <th>book_title</th>\n",
       "      <th>genres</th>\n",
       "      <th>image_url</th>\n",
       "    </tr>\n",
       "  </thead>\n",
       "  <tbody>\n",
       "    <tr>\n",
       "      <th>0</th>\n",
       "      <td>Suzanne Collins</td>\n",
       "      <td>Winning will make you famous. Losing means cer...</td>\n",
       "      <td>NaN</td>\n",
       "      <td>Hardcover</td>\n",
       "      <td>9.78044E+12</td>\n",
       "      <td>374 pages</td>\n",
       "      <td>4.33</td>\n",
       "      <td>5519135</td>\n",
       "      <td>160706</td>\n",
       "      <td>The Hunger Games</td>\n",
       "      <td>Young Adult|Fiction|Science Fiction|Dystopia|F...</td>\n",
       "      <td>https://images.gr-assets.com/books/1447303603l...</td>\n",
       "    </tr>\n",
       "    <tr>\n",
       "      <th>1</th>\n",
       "      <td>J.K. Rowling|Mary GrandPré</td>\n",
       "      <td>There is a door at the end of a silent corrido...</td>\n",
       "      <td>US Edition</td>\n",
       "      <td>Paperback</td>\n",
       "      <td>9.78044E+12</td>\n",
       "      <td>870 pages</td>\n",
       "      <td>4.48</td>\n",
       "      <td>2041594</td>\n",
       "      <td>33264</td>\n",
       "      <td>Harry Potter and the Order of the Phoenix</td>\n",
       "      <td>Fantasy|Young Adult|Fiction</td>\n",
       "      <td>https://images.gr-assets.com/books/1255614970l...</td>\n",
       "    </tr>\n",
       "  </tbody>\n",
       "</table>\n",
       "</div>"
      ],
      "text/plain": [
       "                 book_authors   \n",
       "0             Suzanne Collins  \\\n",
       "1  J.K. Rowling|Mary GrandPré   \n",
       "\n",
       "                                           book_desc book_edition book_format   \n",
       "0  Winning will make you famous. Losing means cer...          NaN   Hardcover  \\\n",
       "1  There is a door at the end of a silent corrido...   US Edition   Paperback   \n",
       "\n",
       "     book_isbn book_pages  book_rating  book_rating_count  book_review_count   \n",
       "0  9.78044E+12  374 pages         4.33            5519135             160706  \\\n",
       "1  9.78044E+12  870 pages         4.48            2041594              33264   \n",
       "\n",
       "                                  book_title   \n",
       "0                           The Hunger Games  \\\n",
       "1  Harry Potter and the Order of the Phoenix   \n",
       "\n",
       "                                              genres   \n",
       "0  Young Adult|Fiction|Science Fiction|Dystopia|F...  \\\n",
       "1                        Fantasy|Young Adult|Fiction   \n",
       "\n",
       "                                           image_url  \n",
       "0  https://images.gr-assets.com/books/1447303603l...  \n",
       "1  https://images.gr-assets.com/books/1255614970l...  "
      ]
     },
     "execution_count": 42,
     "metadata": {},
     "output_type": "execute_result"
    }
   ],
   "source": [
    "# Считываем данные из датасета\n",
    "df = pd.read_csv('book_data.csv')\n",
    "df.head(2)"
   ]
  },
  {
   "cell_type": "code",
   "execution_count": 43,
   "metadata": {},
   "outputs": [
    {
     "data": {
      "text/html": [
       "<div>\n",
       "<style scoped>\n",
       "    .dataframe tbody tr th:only-of-type {\n",
       "        vertical-align: middle;\n",
       "    }\n",
       "\n",
       "    .dataframe tbody tr th {\n",
       "        vertical-align: top;\n",
       "    }\n",
       "\n",
       "    .dataframe thead th {\n",
       "        text-align: right;\n",
       "    }\n",
       "</style>\n",
       "<table border=\"1\" class=\"dataframe\">\n",
       "  <thead>\n",
       "    <tr style=\"text-align: right;\">\n",
       "      <th></th>\n",
       "      <th>book_authors</th>\n",
       "      <th>book_desc</th>\n",
       "      <th>book_format</th>\n",
       "      <th>book_isbn</th>\n",
       "      <th>book_pages</th>\n",
       "      <th>book_rating</th>\n",
       "      <th>book_title</th>\n",
       "      <th>genres</th>\n",
       "    </tr>\n",
       "  </thead>\n",
       "  <tbody>\n",
       "    <tr>\n",
       "      <th>0</th>\n",
       "      <td>Suzanne Collins</td>\n",
       "      <td>Winning will make you famous. Losing means cer...</td>\n",
       "      <td>Hardcover</td>\n",
       "      <td>1</td>\n",
       "      <td>374.0</td>\n",
       "      <td>4.33</td>\n",
       "      <td>The Hunger Games</td>\n",
       "      <td>Young Adult , Fiction , Science Fiction , Dyst...</td>\n",
       "    </tr>\n",
       "    <tr>\n",
       "      <th>1</th>\n",
       "      <td>J.K. Rowling|Mary GrandPré</td>\n",
       "      <td>There is a door at the end of a silent corrido...</td>\n",
       "      <td>Paperback</td>\n",
       "      <td>1</td>\n",
       "      <td>870.0</td>\n",
       "      <td>4.48</td>\n",
       "      <td>Harry Potter and the Order of the Phoenix</td>\n",
       "      <td>Fantasy , Young Adult , Fiction</td>\n",
       "    </tr>\n",
       "  </tbody>\n",
       "</table>\n",
       "</div>"
      ],
      "text/plain": [
       "                 book_authors   \n",
       "0             Suzanne Collins  \\\n",
       "1  J.K. Rowling|Mary GrandPré   \n",
       "\n",
       "                                           book_desc book_format  book_isbn   \n",
       "0  Winning will make you famous. Losing means cer...   Hardcover          1  \\\n",
       "1  There is a door at the end of a silent corrido...   Paperback          1   \n",
       "\n",
       "   book_pages  book_rating                                 book_title   \n",
       "0       374.0         4.33                           The Hunger Games  \\\n",
       "1       870.0         4.48  Harry Potter and the Order of the Phoenix   \n",
       "\n",
       "                                              genres  \n",
       "0  Young Adult , Fiction , Science Fiction , Dyst...  \n",
       "1                    Fantasy , Young Adult , Fiction  "
      ]
     },
     "execution_count": 43,
     "metadata": {},
     "output_type": "execute_result"
    }
   ],
   "source": [
    "# Редактируем датасет\n",
    "df['book_isbn'] = (~df['book_isbn'].isna()).astype(int)\n",
    "\n",
    "df['book_pages'] = df['book_pages'].apply(\n",
    "    lambda x: int(x.split()[0]) if pd.notnull(x) else np.nan)\n",
    "\n",
    "del df['image_url']\n",
    "del df['book_edition']\n",
    "del df['book_rating_count']\n",
    "del df['book_review_count']\n",
    "\n",
    "for col in ('book_authors', 'book_desc', 'book_title', 'genres'):\n",
    "    df[col].fillna('', inplace=True)\n",
    "\n",
    "for col in ('book_format', 'book_isbn'):\n",
    "    df[col].fillna(-999, inplace=True)\n",
    "\n",
    "df['genres'] = df['genres'].apply(lambda x: x.replace('|', ' , '))\n",
    "\n",
    "df.head(2)"
   ]
  },
  {
   "cell_type": "code",
   "execution_count": 44,
   "metadata": {},
   "outputs": [],
   "source": [
    "# Разделение данных на обучающую и тестовую выборки\n",
    "train_data = df.sample(frac=0.8, random_state=1)\n",
    "test_data = df.drop(train_data.index)"
   ]
  },
  {
   "cell_type": "code",
   "execution_count": 45,
   "metadata": {},
   "outputs": [],
   "source": [
    "# Определение целевой переменной и признаков\n",
    "target = 'book_rating'\n",
    "features = [col for col in train_data.columns if col != target]\n"
   ]
  },
  {
   "cell_type": "code",
   "execution_count": 46,
   "metadata": {},
   "outputs": [],
   "source": [
    "# Определение признаков\n",
    "categorical_features = [2, 3]\n",
    "text_features = [0, 1, 5, 6]\n"
   ]
  },
  {
   "cell_type": "code",
   "execution_count": 47,
   "metadata": {},
   "outputs": [],
   "source": [
    "# Разделение обучающего набора данных на обучающую и валидационную выборки\n",
    "features_train, features_validation, target_train, target_validation = train_test_split(\n",
    "    train_data[features], train_data[target], train_size=0.75, random_state=42)\n",
    "\n",
    "features_test = test_data.drop('book_rating', axis=1)\n"
   ]
  },
  {
   "cell_type": "code",
   "execution_count": 48,
   "metadata": {},
   "outputs": [],
   "source": [
    "# Моделька)\n",
    "model = CatBoostRegressor(\n",
    "    iterations=1000,\n",
    "    random_seed=42,\n",
    "    eval_metric='RMSE',\n",
    "    thread_count=-1,\n",
    "    use_best_model=True,\n",
    "    task_type='GPU',\n",
    "    logging_level='Silent'\n",
    ")\n"
   ]
  },
  {
   "cell_type": "code",
   "execution_count": 49,
   "metadata": {},
   "outputs": [
    {
     "data": {
      "application/vnd.jupyter.widget-view+json": {
       "model_id": "8363ec2730fd42909b559c02f4b2457e",
       "version_major": 2,
       "version_minor": 0
      },
      "text/plain": [
       "MetricVisualizer(layout=Layout(align_self='stretch', height='500px'))"
      ]
     },
     "metadata": {},
     "output_type": "display_data"
    },
    {
     "data": {
      "text/plain": [
       "<catboost.core.CatBoostRegressor at 0x1f9c63de050>"
      ]
     },
     "execution_count": 49,
     "metadata": {},
     "output_type": "execute_result"
    }
   ],
   "source": [
    "# ЗАПУСК\n",
    "model.fit(\n",
    "    features_train, target_train,\n",
    "    cat_features=categorical_features,\n",
    "    text_features=text_features,\n",
    "    eval_set=(features_validation, target_validation),\n",
    "    plot=True\n",
    ")\n"
   ]
  },
  {
   "cell_type": "code",
   "execution_count": 21,
   "metadata": {},
   "outputs": [
    {
     "data": {
      "application/vnd.jupyter.widget-view+json": {
       "model_id": "37ae69b709bd4929b2c3570c7ba752c0",
       "version_major": 2,
       "version_minor": 0
      },
      "text/plain": [
       "MetricVisualizer(layout=Layout(align_self='stretch', height='500px'))"
      ]
     },
     "metadata": {},
     "output_type": "display_data"
    }
   ],
   "source": [
    "# Кросс-валидация модели\n",
    "cv_params = model.get_params()\n",
    "cv_data = cv(Pool(\n",
    "    train_data[features],\n",
    "    train_data[target],\n",
    "    cat_features=categorical_features,\n",
    "    text_features=text_features),\n",
    "    cv_params,\n",
    "    plot=True\n",
    ")\n"
   ]
  },
  {
   "cell_type": "code",
   "execution_count": 22,
   "metadata": {},
   "outputs": [
    {
     "data": {
      "text/html": [
       "<div>\n",
       "<style scoped>\n",
       "    .dataframe tbody tr th:only-of-type {\n",
       "        vertical-align: middle;\n",
       "    }\n",
       "\n",
       "    .dataframe tbody tr th {\n",
       "        vertical-align: top;\n",
       "    }\n",
       "\n",
       "    .dataframe thead th {\n",
       "        text-align: right;\n",
       "    }\n",
       "</style>\n",
       "<table border=\"1\" class=\"dataframe\">\n",
       "  <thead>\n",
       "    <tr style=\"text-align: right;\">\n",
       "      <th></th>\n",
       "      <th>book_title</th>\n",
       "      <th>book_rating</th>\n",
       "    </tr>\n",
       "  </thead>\n",
       "  <tbody>\n",
       "    <tr>\n",
       "      <th>9</th>\n",
       "      <td>J.R.R. Tolkien 4-Book Boxed Set: The Hobbit an...</td>\n",
       "      <td>4.316881</td>\n",
       "    </tr>\n",
       "    <tr>\n",
       "      <th>14</th>\n",
       "      <td>The Da Vinci Code</td>\n",
       "      <td>3.950541</td>\n",
       "    </tr>\n",
       "    <tr>\n",
       "      <th>15</th>\n",
       "      <td>Memoirs of a Geisha</td>\n",
       "      <td>3.933447</td>\n",
       "    </tr>\n",
       "    <tr>\n",
       "      <th>18</th>\n",
       "      <td>Les Misérables</td>\n",
       "      <td>4.181789</td>\n",
       "    </tr>\n",
       "    <tr>\n",
       "      <th>20</th>\n",
       "      <td>Jane Eyre</td>\n",
       "      <td>3.982859</td>\n",
       "    </tr>\n",
       "    <tr>\n",
       "      <th>...</th>\n",
       "      <td>...</td>\n",
       "      <td>...</td>\n",
       "    </tr>\n",
       "    <tr>\n",
       "      <th>54284</th>\n",
       "      <td>The World God Only Knows 17</td>\n",
       "      <td>4.257336</td>\n",
       "    </tr>\n",
       "    <tr>\n",
       "      <th>54287</th>\n",
       "      <td>The World God Only Knows 03 (The World God Onl...</td>\n",
       "      <td>4.226160</td>\n",
       "    </tr>\n",
       "    <tr>\n",
       "      <th>54290</th>\n",
       "      <td>The World God Only Knows vol. 06 (The World Go...</td>\n",
       "      <td>4.094324</td>\n",
       "    </tr>\n",
       "    <tr>\n",
       "      <th>54299</th>\n",
       "      <td>He Wanted the Moon: The Madness and Medical Ge...</td>\n",
       "      <td>3.878354</td>\n",
       "    </tr>\n",
       "    <tr>\n",
       "      <th>54300</th>\n",
       "      <td>The Anthology and the Rise of the Novel: From ...</td>\n",
       "      <td>3.944917</td>\n",
       "    </tr>\n",
       "  </tbody>\n",
       "</table>\n",
       "<p>10860 rows × 2 columns</p>\n",
       "</div>"
      ],
      "text/plain": [
       "                                              book_title  book_rating\n",
       "9      J.R.R. Tolkien 4-Book Boxed Set: The Hobbit an...     4.316881\n",
       "14                                     The Da Vinci Code     3.950541\n",
       "15                                   Memoirs of a Geisha     3.933447\n",
       "18                                        Les Misérables     4.181789\n",
       "20                                             Jane Eyre     3.982859\n",
       "...                                                  ...          ...\n",
       "54284                        The World God Only Knows 17     4.257336\n",
       "54287  The World God Only Knows 03 (The World God Onl...     4.226160\n",
       "54290  The World God Only Knows vol. 06 (The World Go...     4.094324\n",
       "54299  He Wanted the Moon: The Madness and Medical Ge...     3.878354\n",
       "54300  The Anthology and the Rise of the Novel: From ...     3.944917\n",
       "\n",
       "[10860 rows x 2 columns]"
      ]
     },
     "execution_count": 22,
     "metadata": {},
     "output_type": "execute_result"
    }
   ],
   "source": [
    "submisstion = pd.DataFrame()\n",
    "submisstion['book_title'] = features_test['book_title']\n",
    "submisstion['book_rating'] = model.predict(features_test)\n",
    "submisstion.to_csv('submission.csv', index=False)\n",
    "\n",
    "submisstion"
   ]
  },
  {
   "cell_type": "code",
   "execution_count": 50,
   "metadata": {},
   "outputs": [
    {
     "name": "stdout",
     "output_type": "stream",
     "text": [
      "MSE: 0.1081537905057378\n"
     ]
    }
   ],
   "source": [
    "# Оценка качества модели на тестовой выборке\n",
    "mse = mean_squared_error(test_data[target], model.predict(test_data[features]))\n",
    "print(f'MSE: {mse}')"
   ]
  },
  {
   "cell_type": "code",
   "execution_count": 33,
   "metadata": {},
   "outputs": [
    {
     "data": {
      "text/plain": [
       "array([ 9.91637331, 19.67030493,  0.27352741,  2.86130878, 14.44836228,\n",
       "       12.51764538, 40.31247792])"
      ]
     },
     "execution_count": 33,
     "metadata": {},
     "output_type": "execute_result"
    }
   ],
   "source": [
    "model.get_feature_importance()"
   ]
  },
  {
   "cell_type": "code",
   "execution_count": 51,
   "metadata": {},
   "outputs": [],
   "source": [
    "model2 = CatBoostRegressor(\n",
    "    iterations=1000,\n",
    "    random_seed=42,\n",
    "    eval_metric='RMSE',\n",
    "    thread_count=-1,\n",
    "    use_best_model=True,\n",
    "    task_type='GPU',\n",
    "    logging_level='Silent'\n",
    ")\n"
   ]
  },
  {
   "cell_type": "code",
   "execution_count": 70,
   "metadata": {},
   "outputs": [
    {
     "data": {
      "text/html": [
       "<div>\n",
       "<style scoped>\n",
       "    .dataframe tbody tr th:only-of-type {\n",
       "        vertical-align: middle;\n",
       "    }\n",
       "\n",
       "    .dataframe tbody tr th {\n",
       "        vertical-align: top;\n",
       "    }\n",
       "\n",
       "    .dataframe thead th {\n",
       "        text-align: right;\n",
       "    }\n",
       "</style>\n",
       "<table border=\"1\" class=\"dataframe\">\n",
       "  <thead>\n",
       "    <tr style=\"text-align: right;\">\n",
       "      <th></th>\n",
       "      <th>book_authors</th>\n",
       "      <th>book_desc</th>\n",
       "      <th>book_edition</th>\n",
       "      <th>book_format</th>\n",
       "      <th>book_isbn</th>\n",
       "      <th>book_pages</th>\n",
       "      <th>book_rating</th>\n",
       "      <th>book_rating_count</th>\n",
       "      <th>book_review_count</th>\n",
       "      <th>book_title</th>\n",
       "      <th>genres</th>\n",
       "      <th>image_url</th>\n",
       "    </tr>\n",
       "  </thead>\n",
       "  <tbody>\n",
       "    <tr>\n",
       "      <th>0</th>\n",
       "      <td>Suzanne Collins</td>\n",
       "      <td>Winning will make you famous. Losing means cer...</td>\n",
       "      <td>NaN</td>\n",
       "      <td>Hardcover</td>\n",
       "      <td>9.78044E+12</td>\n",
       "      <td>374 pages</td>\n",
       "      <td>4.33</td>\n",
       "      <td>5519135</td>\n",
       "      <td>160706</td>\n",
       "      <td>The Hunger Games</td>\n",
       "      <td>Young Adult|Fiction|Science Fiction|Dystopia|F...</td>\n",
       "      <td>https://images.gr-assets.com/books/1447303603l...</td>\n",
       "    </tr>\n",
       "    <tr>\n",
       "      <th>1</th>\n",
       "      <td>J.K. Rowling|Mary GrandPré</td>\n",
       "      <td>There is a door at the end of a silent corrido...</td>\n",
       "      <td>US Edition</td>\n",
       "      <td>Paperback</td>\n",
       "      <td>9.78044E+12</td>\n",
       "      <td>870 pages</td>\n",
       "      <td>4.48</td>\n",
       "      <td>2041594</td>\n",
       "      <td>33264</td>\n",
       "      <td>Harry Potter and the Order of the Phoenix</td>\n",
       "      <td>Fantasy|Young Adult|Fiction</td>\n",
       "      <td>https://images.gr-assets.com/books/1255614970l...</td>\n",
       "    </tr>\n",
       "  </tbody>\n",
       "</table>\n",
       "</div>"
      ],
      "text/plain": [
       "                 book_authors   \n",
       "0             Suzanne Collins  \\\n",
       "1  J.K. Rowling|Mary GrandPré   \n",
       "\n",
       "                                           book_desc book_edition book_format   \n",
       "0  Winning will make you famous. Losing means cer...          NaN   Hardcover  \\\n",
       "1  There is a door at the end of a silent corrido...   US Edition   Paperback   \n",
       "\n",
       "     book_isbn book_pages  book_rating  book_rating_count  book_review_count   \n",
       "0  9.78044E+12  374 pages         4.33            5519135             160706  \\\n",
       "1  9.78044E+12  870 pages         4.48            2041594              33264   \n",
       "\n",
       "                                  book_title   \n",
       "0                           The Hunger Games  \\\n",
       "1  Harry Potter and the Order of the Phoenix   \n",
       "\n",
       "                                              genres   \n",
       "0  Young Adult|Fiction|Science Fiction|Dystopia|F...  \\\n",
       "1                        Fantasy|Young Adult|Fiction   \n",
       "\n",
       "                                           image_url  \n",
       "0  https://images.gr-assets.com/books/1447303603l...  \n",
       "1  https://images.gr-assets.com/books/1255614970l...  "
      ]
     },
     "execution_count": 70,
     "metadata": {},
     "output_type": "execute_result"
    }
   ],
   "source": [
    "# Считываем данные из датасета\n",
    "df = pd.read_csv('book_data.csv')\n",
    "df.head(2)\n"
   ]
  },
  {
   "cell_type": "code",
   "execution_count": 71,
   "metadata": {},
   "outputs": [
    {
     "data": {
      "text/html": [
       "<div>\n",
       "<style scoped>\n",
       "    .dataframe tbody tr th:only-of-type {\n",
       "        vertical-align: middle;\n",
       "    }\n",
       "\n",
       "    .dataframe tbody tr th {\n",
       "        vertical-align: top;\n",
       "    }\n",
       "\n",
       "    .dataframe thead th {\n",
       "        text-align: right;\n",
       "    }\n",
       "</style>\n",
       "<table border=\"1\" class=\"dataframe\">\n",
       "  <thead>\n",
       "    <tr style=\"text-align: right;\">\n",
       "      <th></th>\n",
       "      <th>book_authors</th>\n",
       "      <th>book_desc</th>\n",
       "      <th>book_format</th>\n",
       "      <th>book_isbn</th>\n",
       "      <th>book_pages</th>\n",
       "      <th>book_rating_count</th>\n",
       "      <th>book_title</th>\n",
       "      <th>genres</th>\n",
       "    </tr>\n",
       "  </thead>\n",
       "  <tbody>\n",
       "    <tr>\n",
       "      <th>0</th>\n",
       "      <td>Suzanne Collins</td>\n",
       "      <td>Winning will make you famous. Losing means cer...</td>\n",
       "      <td>Hardcover</td>\n",
       "      <td>1</td>\n",
       "      <td>374.0</td>\n",
       "      <td>5519135</td>\n",
       "      <td>The Hunger Games</td>\n",
       "      <td>Young Adult , Fiction , Science Fiction , Dyst...</td>\n",
       "    </tr>\n",
       "    <tr>\n",
       "      <th>1</th>\n",
       "      <td>J.K. Rowling|Mary GrandPré</td>\n",
       "      <td>There is a door at the end of a silent corrido...</td>\n",
       "      <td>Paperback</td>\n",
       "      <td>1</td>\n",
       "      <td>870.0</td>\n",
       "      <td>2041594</td>\n",
       "      <td>Harry Potter and the Order of the Phoenix</td>\n",
       "      <td>Fantasy , Young Adult , Fiction</td>\n",
       "    </tr>\n",
       "  </tbody>\n",
       "</table>\n",
       "</div>"
      ],
      "text/plain": [
       "                 book_authors   \n",
       "0             Suzanne Collins  \\\n",
       "1  J.K. Rowling|Mary GrandPré   \n",
       "\n",
       "                                           book_desc book_format  book_isbn   \n",
       "0  Winning will make you famous. Losing means cer...   Hardcover          1  \\\n",
       "1  There is a door at the end of a silent corrido...   Paperback          1   \n",
       "\n",
       "   book_pages  book_rating_count                                 book_title   \n",
       "0       374.0            5519135                           The Hunger Games  \\\n",
       "1       870.0            2041594  Harry Potter and the Order of the Phoenix   \n",
       "\n",
       "                                              genres  \n",
       "0  Young Adult , Fiction , Science Fiction , Dyst...  \n",
       "1                    Fantasy , Young Adult , Fiction  "
      ]
     },
     "execution_count": 71,
     "metadata": {},
     "output_type": "execute_result"
    }
   ],
   "source": [
    "# Редактируем датасет\n",
    "df['book_isbn'] = (~df['book_isbn'].isna()).astype(int)\n",
    "\n",
    "df['book_pages'] = df['book_pages'].apply(\n",
    "    lambda x: int(x.split()[0]) if pd.notnull(x) else np.nan)\n",
    "\n",
    "del df['image_url']\n",
    "del df['book_edition']\n",
    "del df['book_review_count']\n",
    "del df['book_rating']\n",
    "\n",
    "for col in ('book_authors', 'book_desc', 'book_title', 'genres'):\n",
    "    df[col].fillna('', inplace=True)\n",
    "\n",
    "for col in ('book_format', 'book_isbn'):\n",
    "    df[col].fillna(-999, inplace=True)\n",
    "\n",
    "df['genres'] = df['genres'].apply(lambda x: x.replace('|', ' , '))\n",
    "\n",
    "df.head(2)\n"
   ]
  },
  {
   "cell_type": "code",
   "execution_count": 72,
   "metadata": {},
   "outputs": [],
   "source": [
    "# Определение целевой переменной и признаков\n",
    "target = 'book_rating_count'\n",
    "features = [col for col in train_data.columns if col != target]\n"
   ]
  },
  {
   "cell_type": "code",
   "execution_count": 73,
   "metadata": {},
   "outputs": [],
   "source": [
    "# Разделение данных на обучающую и тестовую выборки\n",
    "train_data = df.sample(frac=0.8, random_state=1)\n",
    "test_data = df.drop(train_data.index)\n"
   ]
  },
  {
   "cell_type": "code",
   "execution_count": 74,
   "metadata": {},
   "outputs": [],
   "source": [
    "categorical_features = [2, 3]\n",
    "text_features = [0, 1, 5, 6]\n",
    "# Разделение обучающего набора данных на обучающую и валидационную выборки\n",
    "features_train, features_validation, target_train, target_validation = train_test_split(\n",
    "    train_data[features], train_data[target], train_size=0.75, random_state=42)\n",
    "\n",
    "features_test = test_data.drop('book_rating_count', axis=1)\n"
   ]
  },
  {
   "cell_type": "code",
   "execution_count": 75,
   "metadata": {},
   "outputs": [
    {
     "data": {
      "application/vnd.jupyter.widget-view+json": {
       "model_id": "0a4b7f81c99f4baa871c63bbdb902397",
       "version_major": 2,
       "version_minor": 0
      },
      "text/plain": [
       "MetricVisualizer(layout=Layout(align_self='stretch', height='500px'))"
      ]
     },
     "metadata": {},
     "output_type": "display_data"
    },
    {
     "data": {
      "text/plain": [
       "<catboost.core.CatBoostRegressor at 0x1f9cab11d80>"
      ]
     },
     "execution_count": 75,
     "metadata": {},
     "output_type": "execute_result"
    }
   ],
   "source": [
    "model2.fit(\n",
    "    features_train, target_train,\n",
    "    cat_features=categorical_features,\n",
    "    text_features=text_features,\n",
    "    eval_set=(features_validation, target_validation),\n",
    "    plot=True\n",
    ")"
   ]
  },
  {
   "cell_type": "code",
   "execution_count": null,
   "metadata": {},
   "outputs": [],
   "source": []
  }
 ],
 "metadata": {
  "kernelspec": {
   "display_name": "Python 3",
   "language": "python",
   "name": "python3"
  },
  "language_info": {
   "codemirror_mode": {
    "name": "ipython",
    "version": 3
   },
   "file_extension": ".py",
   "mimetype": "text/x-python",
   "name": "python",
   "nbconvert_exporter": "python",
   "pygments_lexer": "ipython3",
   "version": "3.10.8"
  },
  "orig_nbformat": 4
 },
 "nbformat": 4,
 "nbformat_minor": 2
}
